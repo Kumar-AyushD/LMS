{
 "cells": [
  {
   "cell_type": "code",
   "execution_count": 1,
   "id": "799e2667",
   "metadata": {},
   "outputs": [],
   "source": [
    "import numpy as np\n",
    "import pandas as pd\n",
    "import seaborn as sns\n",
    "import matplotlib.pyplot as plt\n",
    "%matplotlib inline\n",
    "import warnings\n",
    "warnings.filterwarnings('ignore')"
   ]
  },
  {
   "cell_type": "code",
   "execution_count": 3,
   "id": "1f0a2f1a",
   "metadata": {},
   "outputs": [],
   "source": [
    "df = pd.read_csv('stud.csv')"
   ]
  },
  {
   "cell_type": "code",
   "execution_count": 4,
   "id": "6a464e3b",
   "metadata": {},
   "outputs": [
    {
     "data": {
      "text/html": [
       "<div>\n",
       "<style scoped>\n",
       "    .dataframe tbody tr th:only-of-type {\n",
       "        vertical-align: middle;\n",
       "    }\n",
       "\n",
       "    .dataframe tbody tr th {\n",
       "        vertical-align: top;\n",
       "    }\n",
       "\n",
       "    .dataframe thead th {\n",
       "        text-align: right;\n",
       "    }\n",
       "</style>\n",
       "<table border=\"1\" class=\"dataframe\">\n",
       "  <thead>\n",
       "    <tr style=\"text-align: right;\">\n",
       "      <th></th>\n",
       "      <th>gender</th>\n",
       "      <th>race/ethnicity</th>\n",
       "      <th>parental level of education</th>\n",
       "      <th>lunch</th>\n",
       "      <th>test preparation course</th>\n",
       "      <th>math score</th>\n",
       "      <th>reading score</th>\n",
       "      <th>writing score</th>\n",
       "    </tr>\n",
       "  </thead>\n",
       "  <tbody>\n",
       "    <tr>\n",
       "      <th>0</th>\n",
       "      <td>female</td>\n",
       "      <td>group B</td>\n",
       "      <td>bachelor's degree</td>\n",
       "      <td>standard</td>\n",
       "      <td>none</td>\n",
       "      <td>72</td>\n",
       "      <td>72</td>\n",
       "      <td>74</td>\n",
       "    </tr>\n",
       "    <tr>\n",
       "      <th>1</th>\n",
       "      <td>female</td>\n",
       "      <td>group C</td>\n",
       "      <td>some college</td>\n",
       "      <td>standard</td>\n",
       "      <td>completed</td>\n",
       "      <td>69</td>\n",
       "      <td>90</td>\n",
       "      <td>88</td>\n",
       "    </tr>\n",
       "    <tr>\n",
       "      <th>2</th>\n",
       "      <td>female</td>\n",
       "      <td>group B</td>\n",
       "      <td>master's degree</td>\n",
       "      <td>standard</td>\n",
       "      <td>none</td>\n",
       "      <td>90</td>\n",
       "      <td>95</td>\n",
       "      <td>93</td>\n",
       "    </tr>\n",
       "    <tr>\n",
       "      <th>3</th>\n",
       "      <td>male</td>\n",
       "      <td>group A</td>\n",
       "      <td>associate's degree</td>\n",
       "      <td>free/reduced</td>\n",
       "      <td>none</td>\n",
       "      <td>47</td>\n",
       "      <td>57</td>\n",
       "      <td>44</td>\n",
       "    </tr>\n",
       "    <tr>\n",
       "      <th>4</th>\n",
       "      <td>male</td>\n",
       "      <td>group C</td>\n",
       "      <td>some college</td>\n",
       "      <td>standard</td>\n",
       "      <td>none</td>\n",
       "      <td>76</td>\n",
       "      <td>78</td>\n",
       "      <td>75</td>\n",
       "    </tr>\n",
       "  </tbody>\n",
       "</table>\n",
       "</div>"
      ],
      "text/plain": [
       "   gender race/ethnicity parental level of education         lunch  \\\n",
       "0  female        group B           bachelor's degree      standard   \n",
       "1  female        group C                some college      standard   \n",
       "2  female        group B             master's degree      standard   \n",
       "3    male        group A          associate's degree  free/reduced   \n",
       "4    male        group C                some college      standard   \n",
       "\n",
       "  test preparation course  math score  reading score  writing score  \n",
       "0                    none          72             72             74  \n",
       "1               completed          69             90             88  \n",
       "2                    none          90             95             93  \n",
       "3                    none          47             57             44  \n",
       "4                    none          76             78             75  "
      ]
     },
     "execution_count": 4,
     "metadata": {},
     "output_type": "execute_result"
    }
   ],
   "source": [
    "df.head()"
   ]
  },
  {
   "cell_type": "code",
   "execution_count": 11,
   "id": "26dd639c",
   "metadata": {},
   "outputs": [
    {
     "data": {
      "text/html": [
       "<div>\n",
       "<style scoped>\n",
       "    .dataframe tbody tr th:only-of-type {\n",
       "        vertical-align: middle;\n",
       "    }\n",
       "\n",
       "    .dataframe tbody tr th {\n",
       "        vertical-align: top;\n",
       "    }\n",
       "\n",
       "    .dataframe thead th {\n",
       "        text-align: right;\n",
       "    }\n",
       "</style>\n",
       "<table border=\"1\" class=\"dataframe\">\n",
       "  <thead>\n",
       "    <tr style=\"text-align: right;\">\n",
       "      <th></th>\n",
       "      <th>math score</th>\n",
       "      <th>reading score</th>\n",
       "      <th>writing score</th>\n",
       "    </tr>\n",
       "  </thead>\n",
       "  <tbody>\n",
       "    <tr>\n",
       "      <th>count</th>\n",
       "      <td>1000.00000</td>\n",
       "      <td>1000.000000</td>\n",
       "      <td>1000.000000</td>\n",
       "    </tr>\n",
       "    <tr>\n",
       "      <th>mean</th>\n",
       "      <td>66.08900</td>\n",
       "      <td>69.169000</td>\n",
       "      <td>68.054000</td>\n",
       "    </tr>\n",
       "    <tr>\n",
       "      <th>std</th>\n",
       "      <td>15.16308</td>\n",
       "      <td>14.600192</td>\n",
       "      <td>15.195657</td>\n",
       "    </tr>\n",
       "    <tr>\n",
       "      <th>min</th>\n",
       "      <td>0.00000</td>\n",
       "      <td>17.000000</td>\n",
       "      <td>10.000000</td>\n",
       "    </tr>\n",
       "    <tr>\n",
       "      <th>25%</th>\n",
       "      <td>57.00000</td>\n",
       "      <td>59.000000</td>\n",
       "      <td>57.750000</td>\n",
       "    </tr>\n",
       "    <tr>\n",
       "      <th>50%</th>\n",
       "      <td>66.00000</td>\n",
       "      <td>70.000000</td>\n",
       "      <td>69.000000</td>\n",
       "    </tr>\n",
       "    <tr>\n",
       "      <th>75%</th>\n",
       "      <td>77.00000</td>\n",
       "      <td>79.000000</td>\n",
       "      <td>79.000000</td>\n",
       "    </tr>\n",
       "    <tr>\n",
       "      <th>max</th>\n",
       "      <td>100.00000</td>\n",
       "      <td>100.000000</td>\n",
       "      <td>100.000000</td>\n",
       "    </tr>\n",
       "  </tbody>\n",
       "</table>\n",
       "</div>"
      ],
      "text/plain": [
       "       math score  reading score  writing score\n",
       "count  1000.00000    1000.000000    1000.000000\n",
       "mean     66.08900      69.169000      68.054000\n",
       "std      15.16308      14.600192      15.195657\n",
       "min       0.00000      17.000000      10.000000\n",
       "25%      57.00000      59.000000      57.750000\n",
       "50%      66.00000      70.000000      69.000000\n",
       "75%      77.00000      79.000000      79.000000\n",
       "max     100.00000     100.000000     100.000000"
      ]
     },
     "execution_count": 11,
     "metadata": {},
     "output_type": "execute_result"
    }
   ],
   "source": [
    "df.describe()"
   ]
  },
  {
   "cell_type": "markdown",
   "id": "7c4d4dca",
   "metadata": {},
   "source": [
    "#  Check Missing values"
   ]
  },
  {
   "cell_type": "code",
   "execution_count": 7,
   "id": "5e596a20",
   "metadata": {},
   "outputs": [
    {
     "data": {
      "text/plain": [
       "gender                         0\n",
       "race/ethnicity                 0\n",
       "parental level of education    0\n",
       "lunch                          0\n",
       "test preparation course        0\n",
       "math score                     0\n",
       "reading score                  0\n",
       "writing score                  0\n",
       "dtype: int64"
      ]
     },
     "execution_count": 7,
     "metadata": {},
     "output_type": "execute_result"
    }
   ],
   "source": [
    "df.isna().sum()"
   ]
  },
  {
   "cell_type": "markdown",
   "id": "27381c2f",
   "metadata": {},
   "source": [
    "#### There are no missing values in the data set"
   ]
  },
  {
   "cell_type": "markdown",
   "id": "b2f2cdbe",
   "metadata": {},
   "source": [
    "# Check Duplicates"
   ]
  },
  {
   "cell_type": "code",
   "execution_count": 8,
   "id": "6b6b2ec0",
   "metadata": {},
   "outputs": [
    {
     "data": {
      "text/plain": [
       "0"
      ]
     },
     "execution_count": 8,
     "metadata": {},
     "output_type": "execute_result"
    }
   ],
   "source": [
    "df.duplicated().sum()"
   ]
  },
  {
   "cell_type": "markdown",
   "id": "0d0614e6",
   "metadata": {},
   "source": [
    "#### There is no duplicate data in the dataset"
   ]
  },
  {
   "cell_type": "markdown",
   "id": "b64c7f09",
   "metadata": {},
   "source": [
    "# CHECKING OUTLIERS"
   ]
  },
  {
   "cell_type": "markdown",
   "id": "751c6911",
   "metadata": {},
   "source": [
    "## 1. Math Score"
   ]
  },
  {
   "cell_type": "code",
   "execution_count": 12,
   "id": "48b58643",
   "metadata": {},
   "outputs": [
    {
     "data": {
      "image/png": "[encoded data removed]",
      "text/plain": [
       "<Figure size 640x480 with 1 Axes>"
      ]
     },
     "metadata": {},
     "output_type": "display_data"
    }
   ],
   "source": [
    "sns.boxplot(x=df[\"math score\"], color='skyblue')\n",
    "plt.show()"
   ]
  },
  {
   "cell_type": "code",
   "execution_count": 21,
   "id": "04593019",
   "metadata": {},
   "outputs": [
    {
     "name": "stdout",
     "output_type": "stream",
     "text": [
      "     gender race/ethnicity parental level of education         lunch  \\\n",
      "17   female        group B            some high school  free/reduced   \n",
      "59   female        group C            some high school  free/reduced   \n",
      "145  female        group C                some college  free/reduced   \n",
      "338  female        group B            some high school  free/reduced   \n",
      "466  female        group D          associate's degree  free/reduced   \n",
      "787  female        group B                some college      standard   \n",
      "842  female        group B                 high school  free/reduced   \n",
      "980  female        group B                 high school  free/reduced   \n",
      "\n",
      "    test preparation course  math score  reading score  writing score  \n",
      "17                     none          18             32             28  \n",
      "59                     none           0             17             10  \n",
      "145                    none          22             39             33  \n",
      "338                    none          24             38             27  \n",
      "466                    none          26             31             38  \n",
      "787                    none          19             38             32  \n",
      "842               completed          23             44             36  \n",
      "980                    none           8             24             23  \n"
     ]
    }
   ],
   "source": [
    "def outlier_thresholds(dataframe, col_name, q1=0.25, q3=0.75):\n",
    "    quartile1 = dataframe[col_name].quantile(q1)\n",
    "    quartile3 = dataframe[col_name].quantile(q3)\n",
    "    interquantile_range = quartile3 - quartile1\n",
    "    up_limit = quartile3 + 1.5 * interquantile_range\n",
    "    low_limit = quartile1 - 1.5 * interquantile_range\n",
    "    return low_limit, up_limit\n",
    "\n",
    "low1, up1 = outlier_thresholds(df, \"math score\") \n",
    "\n",
    "print(df[(df[\"math score\"] < low1) | (df[\"math score\"] > up1)])"
   ]
  },
  {
   "cell_type": "markdown",
   "id": "10d65ca1",
   "metadata": {},
   "source": [
    "##### The outliers for the math score are: 17, 59, 145, 338, 466, 787, 842, 980\n",
    "\n",
    "we can either delete the outliers or change the value with the threshold values, Here we are going to change the values to the threshold values"
   ]
  },
  {
   "cell_type": "code",
   "execution_count": 22,
   "id": "cc75cd6a",
   "metadata": {},
   "outputs": [],
   "source": [
    "def replace_with_thresholds(dataframe, variable, low_limit, up_limit):\n",
    "    dataframe.loc[(dataframe[variable] < low_limit), variable] = low_limit\n",
    "    dataframe.loc[(dataframe[variable] > up_limit), variable] = up_limit\n",
    "    \n",
    "replace_with_thresholds(df, \"math score\", low1, up1)"
   ]
  },
  {
   "cell_type": "code",
   "execution_count": 26,
   "id": "f95d1d65",
   "metadata": {},
   "outputs": [
    {
     "name": "stdout",
     "output_type": "stream",
     "text": [
      "False\n"
     ]
    }
   ],
   "source": [
    "print(df[(df[\"math score\"] < low1) | (df[\"math score\"] > up1)].any(axis = None))"
   ]
  },
  {
   "cell_type": "markdown",
   "id": "d7d6804b",
   "metadata": {},
   "source": [
    "##### This false shows no more outliers are present in th column math score"
   ]
  },
  {
   "cell_type": "markdown",
   "id": "f6be7611",
   "metadata": {},
   "source": [
    "## 2. Reading Score"
   ]
  },
  {
   "cell_type": "code",
   "execution_count": 13,
   "id": "9b604338",
   "metadata": {},
   "outputs": [
    {
     "data": {
      "image/png": "[encoded data removed]",
      "text/plain": [
       "<Figure size 640x480 with 1 Axes>"
      ]
     },
     "metadata": {},
     "output_type": "display_data"
    }
   ],
   "source": [
    "sns.boxplot(x=df[\"reading score\"], color='hotpink')\n",
    "plt.show()"
   ]
  },
  {
   "cell_type": "code",
   "execution_count": 28,
   "id": "f6d34793",
   "metadata": {},
   "outputs": [
    {
     "name": "stdout",
     "output_type": "stream",
     "text": [
      "     gender race/ethnicity parental level of education         lunch  \\\n",
      "59   female        group C            some high school  free/reduced   \n",
      "76     male        group E            some high school      standard   \n",
      "211    male        group C                some college  free/reduced   \n",
      "327    male        group A                some college  free/reduced   \n",
      "596    male        group B                 high school  free/reduced   \n",
      "980  female        group B                 high school  free/reduced   \n",
      "\n",
      "    test preparation course  math score  reading score  writing score  \n",
      "59                     none          27             17             10  \n",
      "76                     none          30             26             22  \n",
      "211                    none          35             28             27  \n",
      "327                    none          28             23             19  \n",
      "596                    none          30             24             15  \n",
      "980                    none          27             24             23  \n"
     ]
    }
   ],
   "source": [
    "low2, up2 = outlier_thresholds(df, \"reading score\") \n",
    "\n",
    "print(df[(df[\"reading score\"] < low2) | (df[\"reading score\"] > up2)])"
   ]
  },
  {
   "cell_type": "markdown",
   "id": "f39090e8",
   "metadata": {},
   "source": [
    "##### The outliers for the reading score are: 59, 76, 211, 327, 596, 980\n",
    "\n",
    "we can either delete the outliers or change the value with the threshold values, Here we are going to change the values to the threshold values"
   ]
  },
  {
   "cell_type": "code",
   "execution_count": 30,
   "id": "f3abd3bb",
   "metadata": {},
   "outputs": [
    {
     "name": "stdout",
     "output_type": "stream",
     "text": [
      "False\n"
     ]
    }
   ],
   "source": [
    "replace_with_thresholds(df, \"reading score\", low2, up2)\n",
    "\n",
    "print(df[(df[\"reading score\"] < low2) | (df[\"reading score\"] > up2)].any(axis = None))"
   ]
  },
  {
   "cell_type": "markdown",
   "id": "c992b76b",
   "metadata": {},
   "source": [
    "##### This false shows no more outliers are present in th column math score"
   ]
  },
  {
   "cell_type": "markdown",
   "id": "e2dcbb9c",
   "metadata": {},
   "source": [
    "#### 3. writing Score"
   ]
  },
  {
   "cell_type": "code",
   "execution_count": 15,
   "id": "aa29c7c7",
   "metadata": {},
   "outputs": [
    {
     "data": {
      "image/png": "[encoded data removed]",
      "text/plain": [
       "<Figure size 640x480 with 1 Axes>"
      ]
     },
     "metadata": {},
     "output_type": "display_data"
    }
   ],
   "source": [
    "sns.boxplot(x=df[\"writing score\"], color='lightgreen')\n",
    "plt.show()"
   ]
  },
  {
   "cell_type": "code",
   "execution_count": 31,
   "id": "ee713bf3",
   "metadata": {},
   "outputs": [
    {
     "name": "stdout",
     "output_type": "stream",
     "text": [
      "     gender race/ethnicity parental level of education         lunch  \\\n",
      "59   female        group C            some high school  free/reduced   \n",
      "76     male        group E            some high school      standard   \n",
      "327    male        group A                some college  free/reduced   \n",
      "596    male        group B                 high school  free/reduced   \n",
      "980  female        group B                 high school  free/reduced   \n",
      "\n",
      "    test preparation course  math score  reading score  writing score  \n",
      "59                     none          29             29             10  \n",
      "76                     none          30             29             22  \n",
      "327                    none          29             29             19  \n",
      "596                    none          30             29             15  \n",
      "980                    none          29             29             23  \n"
     ]
    }
   ],
   "source": [
    "low3, up3 = outlier_thresholds(df, \"writing score\") \n",
    "\n",
    "print(df[(df[\"writing score\"] < low3) | (df[\"writing score\"] > up3)])"
   ]
  },
  {
   "cell_type": "markdown",
   "id": "e6c63b7d",
   "metadata": {},
   "source": [
    "##### The outliers for the writing score are: 59, 76, 327, 596, 980\n",
    "\n",
    "we can either delete the outliers or change the value with the threshold values, Here we are going to change the values to the threshold values"
   ]
  },
  {
   "cell_type": "code",
   "execution_count": 32,
   "id": "1c62eaf1",
   "metadata": {},
   "outputs": [
    {
     "name": "stdout",
     "output_type": "stream",
     "text": [
      "False\n"
     ]
    }
   ],
   "source": [
    "replace_with_thresholds(df, \"writing score\", low3, up3)\n",
    "\n",
    "print(df[(df[\"writing score\"] < low3) | (df[\"writing score\"] > up3)].any(axis = None))"
   ]
  },
  {
   "cell_type": "markdown",
   "id": "e6f7bcb5",
   "metadata": {},
   "source": [
    "### this false indicates no more outliers are present in writing section"
   ]
  },
  {
   "cell_type": "markdown",
   "id": "3ab85bef",
   "metadata": {},
   "source": [
    "## Showing the boxplot after removing the "
   ]
  }
 ],
 "metadata": {
  "kernelspec": {
   "display_name": "Python 3 (ipykernel)",
   "language": "python",
   "name": "python3"
  },
  "language_info": {
   "codemirror_mode": {
    "name": "ipython",
    "version": 3
   },
   "file_extension": ".py",
   "mimetype": "text/x-python",
   "name": "python",
   "nbconvert_exporter": "python",
   "pygments_lexer": "ipython3",
   "version": "3.11.5"
  }
 },
 "nbformat": 4,
 "nbformat_minor": 5
}
